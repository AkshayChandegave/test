{
 "cells": [
  {
   "cell_type": "code",
   "execution_count": null,
   "id": "f66ee183-a5ff-425e-8957-2f76a5cd1bc8",
   "metadata": {},
   "outputs": [],
   "source": [
    "# 1. Declare two variables, `x` and `y`, and assign them integer values. Swap the\n",
    "    values of these variables without using any temporary variable."
   ]
  },
  {
   "cell_type": "code",
   "execution_count": 6,
   "id": "ed4b5ce4-cc96-4b6f-a32a-7b0e411d8efa",
   "metadata": {},
   "outputs": [],
   "source": [
    "# variable declartion \n",
    "x =10\n",
    "y=20"
   ]
  },
  {
   "cell_type": "code",
   "execution_count": 7,
   "id": "47bcb7ce-2347-451a-bbfb-81e29bb69e47",
   "metadata": {},
   "outputs": [],
   "source": [
    "#program logic\n",
    "x= x+y\n",
    "y = x-y\n",
    "x = x-y"
   ]
  },
  {
   "cell_type": "code",
   "execution_count": 8,
   "id": "5fc0bc1b-3a29-48fc-8b4f-2ede32df2b9a",
   "metadata": {},
   "outputs": [
    {
     "name": "stdout",
     "output_type": "stream",
     "text": [
      "20\n"
     ]
    }
   ],
   "source": [
    "print(x)"
   ]
  },
  {
   "cell_type": "code",
   "execution_count": 5,
   "id": "d01de085-4dde-46d7-8fbc-327e0712a7c0",
   "metadata": {},
   "outputs": [
    {
     "name": "stdout",
     "output_type": "stream",
     "text": [
      "10\n"
     ]
    }
   ],
   "source": [
    "print(y)"
   ]
  },
  {
   "cell_type": "code",
   "execution_count": 12,
   "id": "186fa320-e609-47a5-abf6-a9f23301ea3e",
   "metadata": {},
   "outputs": [],
   "source": [
    "#2. Create a program that calculates the area of a rectangle. Take the length and#  width as inputs from the user and store them in variables. Calculate and#    display the area."
   ]
  },
  {
   "cell_type": "code",
   "execution_count": 15,
   "id": "1938b035-599e-4dc6-9cbd-ea7a0f8ba9e6",
   "metadata": {},
   "outputs": [
    {
     "name": "stdin",
     "output_type": "stream",
     "text": [
      " 5\n",
      " 4\n"
     ]
    },
    {
     "name": "stdout",
     "output_type": "stream",
     "text": [
      "20\n"
     ]
    }
   ],
   "source": [
    "\n",
    "\n",
    "width=int(input())\n",
    "length=int(input())\n",
    "\n",
    "area= width*length\n",
    "\n",
    "print(area)"
   ]
  },
  {
   "cell_type": "code",
   "execution_count": 16,
   "id": "abf3e8f9-ffbc-4dd8-b2ec-70db4a8b8d73",
   "metadata": {},
   "outputs": [],
   "source": [
    "#3. Write a Python program that converts temperatures from Celsius to Fahrenheit. Take the temperature in Celsius as input, store it in a variable,convert it to Fahrenheit, and display the result."
   ]
  },
  {
   "cell_type": "code",
   "execution_count": 17,
   "id": "e05b25e9-5912-456d-9cf8-85bbf46f2836",
   "metadata": {},
   "outputs": [
    {
     "name": "stdin",
     "output_type": "stream",
     "text": [
      "enter the celsius 4\n"
     ]
    },
    {
     "name": "stdout",
     "output_type": "stream",
     "text": [
      "39.2\n"
     ]
    }
   ],
   "source": [
    "cel=int(input('enter the celsius'))\n",
    "\n",
    "far=cel*1.8+(32)\n",
    "\n",
    "print(far)\n"
   ]
  },
  {
   "cell_type": "code",
   "execution_count": null,
   "id": "1b08294c-bfda-434d-9d04-3454742facbd",
   "metadata": {},
   "outputs": [],
   "source": [
    "#4. Write a Python program that takes a string as input and prints the length of the string."
   ]
  },
  {
   "cell_type": "code",
   "execution_count": 18,
   "id": "8a889afb-af79-4c53-afc0-07d67bc2ce36",
   "metadata": {},
   "outputs": [
    {
     "name": "stdin",
     "output_type": "stream",
     "text": [
      "enter your string akshay\n"
     ]
    },
    {
     "name": "stdout",
     "output_type": "stream",
     "text": [
      "leght of string is  6\n"
     ]
    }
   ],
   "source": [
    "str_variable=str(input(\"enter your string\"))\n",
    "\n",
    "variable_len=len(str_variable)\n",
    "\n",
    "print(\"leght of string is \" , variable_len )"
   ]
  },
  {
   "cell_type": "code",
   "execution_count": null,
   "id": "f7358bd0-241f-4856-8adc-b0bd32ef5cda",
   "metadata": {},
   "outputs": [],
   "source": [
    "#Create a program that takes a sentence from the user and counts the number of vowels (a, e, i, o, u) in the string."
   ]
  },
  {
   "cell_type": "code",
   "execution_count": 19,
   "id": "c30bc206-e9d8-4891-a835-716bdec4d896",
   "metadata": {},
   "outputs": [
    {
     "name": "stdin",
     "output_type": "stream",
     "text": [
      "enter your string to count Vowels akshay\n"
     ]
    },
    {
     "name": "stdout",
     "output_type": "stream",
     "text": [
      "Total number vowles is  2\n"
     ]
    }
   ],
   "source": [
    "user_str=str(input(\"enter your string to count Vowels\"))\n",
    "\n",
    "voles_count = user_str.count('a') + user_str.count('e') + user_str.count('i') + user_str.count('o') + user_str.count('u')\n",
    "\n",
    "print(\"Total number vowles is \", voles_count)"
   ]
  },
  {
   "cell_type": "code",
   "execution_count": null,
   "id": "24aef06d-2b3f-41ef-a861-f12a58cf7b5a",
   "metadata": {},
   "outputs": [],
   "source": [
    "#Given a string, reverse the order of characters using string slicing and print the reversed string."
   ]
  },
  {
   "cell_type": "code",
   "execution_count": 20,
   "id": "75216778-b3b6-42c8-876b-3dc947b35441",
   "metadata": {},
   "outputs": [
    {
     "name": "stdout",
     "output_type": "stream",
     "text": [
      "yahska\n"
     ]
    }
   ],
   "source": [
    "new=\"akshay\"\n",
    "\n",
    "a=new[::-1]\n",
    "\n",
    "print(a)"
   ]
  },
  {
   "cell_type": "code",
   "execution_count": null,
   "id": "9b5b08a1-0f52-4e54-935b-98a98910db19",
   "metadata": {},
   "outputs": [],
   "source": [
    "# Write a program that takes a string as input and checks if it is a palindrome"
   ]
  },
  {
   "cell_type": "code",
   "execution_count": 21,
   "id": "c063124a-21ae-46b2-b1a3-f5f9e6a3c51e",
   "metadata": {},
   "outputs": [
    {
     "name": "stdin",
     "output_type": "stream",
     "text": [
      "enter your string akshay\n"
     ]
    },
    {
     "name": "stdout",
     "output_type": "stream",
     "text": [
      "string is not  palindrome\n"
     ]
    }
   ],
   "source": [
    "str1=input(\"enter your string\")\n",
    "\n",
    "if (str1 == str1[::-1]):\n",
    "    print(\"string is palindrome\")\n",
    "    \n",
    "else:\n",
    "    print(\"string is not  palindrome\")\n"
   ]
  },
  {
   "cell_type": "code",
   "execution_count": null,
   "id": "2b1078ba-6976-4b7c-87e7-e575278517a0",
   "metadata": {},
   "outputs": [],
   "source": [
    "#Create a program that takes a string as input and removes all the spaces from it. Print the modified string without spaces."
   ]
  },
  {
   "cell_type": "code",
   "execution_count": 23,
   "id": "73d3a0b4-f334-4477-a864-de03c9c92277",
   "metadata": {},
   "outputs": [
    {
     "name": "stdout",
     "output_type": "stream",
     "text": [
      "Hello,World!\n"
     ]
    }
   ],
   "source": [
    "text = \"   Hello,World!   \"\n",
    "\n",
    "trimmed_text = text.strip()\n",
    "\n",
    "print(trimmed_text)"
   ]
  },
  {
   "cell_type": "code",
   "execution_count": null,
   "id": "9e0fece8-a34d-4780-9536-5f5c85013183",
   "metadata": {},
   "outputs": [],
   "source": []
  }
 ],
 "metadata": {
  "kernelspec": {
   "display_name": "Python 3 (ipykernel)",
   "language": "python",
   "name": "python3"
  },
  "language_info": {
   "codemirror_mode": {
    "name": "ipython",
    "version": 3
   },
   "file_extension": ".py",
   "mimetype": "text/x-python",
   "name": "python",
   "nbconvert_exporter": "python",
   "pygments_lexer": "ipython3",
   "version": "3.10.8"
  }
 },
 "nbformat": 4,
 "nbformat_minor": 5
}
